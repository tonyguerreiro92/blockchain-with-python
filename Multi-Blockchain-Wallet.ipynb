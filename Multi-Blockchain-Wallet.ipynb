{
 "cells": [
  {
   "cell_type": "markdown",
   "metadata": {},
   "source": [
    "# Multi-Blockchain Wallet in Python - Creating and executing transactions"
   ]
  },
  {
   "cell_type": "markdown",
   "metadata": {},
   "source": [
    "# Importing libraries"
   ]
  },
  {
   "cell_type": "code",
   "execution_count": 326,
   "metadata": {},
   "outputs": [],
   "source": [
    "import subprocess \n",
    "import json\n",
    "import os\n",
    "from dotenv import load_dotenv\n",
    "from constants import *\n",
    "from bit import Key, PrivateKey, PrivateKeyTestnet\n",
    "from bit.network import NetworkAPI\n",
    "from bit import *\n",
    "from web3 import Web3\n",
    "from eth_account import Account "
   ]
  },
  {
   "cell_type": "markdown",
   "metadata": {},
   "source": [
    "# Web3 connection and loading mnemonic"
   ]
  },
  {
   "cell_type": "code",
   "execution_count": 327,
   "metadata": {},
   "outputs": [
    {
     "name": "stdout",
     "output_type": "stream",
     "text": [
      "cheap session tornado sure resource ivory accuse share pigeon original giraffe winner essay tumble world\n"
     ]
    }
   ],
   "source": [
    "# Nodes runing with POW\n",
    "w3 = Web3(Web3.HTTPProvider(\"http://127.0.0.1.8545\"))\n",
    "\n",
    "# Loading ENV\n",
    "load_dotenv\n",
    "\n",
    "# Loading Mnemonic EV and (set this mnemonic as an environment variable, and include the one you generated as a fallback using)\n",
    "mnemonic = \"cheap session tornado sure resource ivory accuse share pigeon original giraffe winner essay tumble world\"\n",
    "print(mnemonic)"
   ]
  },
  {
   "cell_type": "markdown",
   "metadata": {},
   "source": [
    "# Creating functions to transact"
   ]
  },
  {
   "cell_type": "code",
   "execution_count": 328,
   "metadata": {},
   "outputs": [],
   "source": [
    "def derive_wallets(mnemonic, coin, numderive):\n",
    "    \"\"\"Use the subprocess library to call the php file script from Python\"\"\"\n",
    "    command = f'php ./hd-wallet-derive/hd-wallet-derive.php -g --mnemonic=\"{mnemonic}\" --numderive=\"{numderive}\" --coin=\"{coin}\" --format=json' \n",
    "    \n",
    "    p1 = subprocess.Popen(\"brew services start php@7.3\", shell=True, stdout=subprocess.PIPE)\n",
    "    p1.wait()\n",
    "    \n",
    "    p2 = subprocess.Popen(\"source ~/.zshrc\", shell=True, stdout=subprocess.PIPE)\n",
    "    p2.wait()\n",
    "    \n",
    "    p = subprocess.Popen(command, shell=True, stdout=subprocess.PIPE)\n",
    "    p.wait()\n",
    "    \n",
    "    (output, err) = p.communicate()\n",
    "    \n",
    "    keys = json.loads(output)\n",
    "    return  keys\n",
    " \n"
   ]
  },
  {
   "cell_type": "code",
   "execution_count": 329,
   "metadata": {},
   "outputs": [],
   "source": [
    "#Setting dictionary of coins to be used in the wallet\n",
    "\n",
    "coins = {\"eth\", \"btc-test\", \"btc\"}\n",
    "numderive = 3"
   ]
  },
  {
   "cell_type": "code",
   "execution_count": 330,
   "metadata": {},
   "outputs": [],
   "source": [
    "keys = {}\n",
    "for coin in coins:\n",
    "    keys[coin]= derive_wallets(mnemonic, coin, numderive = 3)"
   ]
  },
  {
   "cell_type": "code",
   "execution_count": 331,
   "metadata": {},
   "outputs": [
    {
     "name": "stdout",
     "output_type": "stream",
     "text": [
      "\"0x328aa4dc2c080b16f3677145db9c9d80d940b509a7a9a8fec2af127ff5bc82f1\"\n",
      "\"cVRahEUgAuY5X3hxSC36p5p4j1UQxP3BPAQu4zo4LrXiN6U8xDi2\"\n"
     ]
    }
   ],
   "source": [
    "eth_PrivateKey = keys[\"eth\"][0]['privkey']\n",
    "btc_PrivateKey = keys['btc-test'][0]['privkey']\n",
    "\n",
    "print(json.dumps(eth_PrivateKey, indent=4, sort_keys=True))\n",
    "print(json.dumps(btc_PrivateKey, indent=4, sort_keys=True))"
   ]
  },
  {
   "cell_type": "code",
   "execution_count": 332,
   "metadata": {},
   "outputs": [
    {
     "name": "stdout",
     "output_type": "stream",
     "text": [
      "{\n",
      "    \"btc\": [\n",
      "        {\n",
      "            \"address\": \"1M7AgamrHPwUA9urYZnT9wTqYr7a4Aaiz4\",\n",
      "            \"index\": 0,\n",
      "            \"path\": \"m/44'/0'/0'/0/0\",\n",
      "            \"privkey\": \"KyZAoJfyZ9QBrPJuVezKHiZSgwHev9jUVT1ZaiKGnvb1nAyoQit3\",\n",
      "            \"pubkey\": \"024adfd10a9f3247ef19a8cf842cd7363d612c52cb3ea0504cf2c787a75f160623\",\n",
      "            \"pubkeyhash\": \"dc8d180d324d0f3b77657bd3a79d4d183b097ef7\",\n",
      "            \"xprv\": \"xprvA4226q1K2ejhVmTNxGtbAVaV3qGsn2bjqmcL7aGpq61EBQUc9QaWr3AuZGT9YC646DdunFA4WVBLg85p9K5wCMgGJsPaQh7HEr15LkQGDae\",\n",
      "            \"xpub\": \"xpub6H1NWLYCs2HziFXr4JRbXdXDbs7NBVKbCzXvuxgSPRYD4CokgwtmPqVPQXXCXfQMtxazUhwxAEkgYw1qpo4bPaQCbitCWYbZzyCpoCB1i1x\"\n",
      "        },\n",
      "        {\n",
      "            \"address\": \"1AdzRoMByqMrnWLF6N7CQgZzo4WoQPnVr1\",\n",
      "            \"index\": 1,\n",
      "            \"path\": \"m/44'/0'/0'/0/1\",\n",
      "            \"privkey\": \"L4H84PYhPxHeH5Fymszp544ye8BL8TizcsvHXXGqpBoVeBsqUruD\",\n",
      "            \"pubkey\": \"020db39366ea8ac2fefc80e7218977f472584b59a42a731b3571467f5c0985ae11\",\n",
      "            \"pubkeyhash\": \"69b80b780923bb410114b6972a2e72fe025509b5\",\n",
      "            \"xprv\": \"xprvA4226q1K2ejhXAS1XrQbMZx8N7iDNqc21LxUkSoiJPd2N2VSLxt2dV4Ch1hqY4L5X43qhjj9wMfF4gfYG9Mygu9sq26hUNN9ByMi3qmexzf\",\n",
      "            \"xpub\": \"xpub6H1NWLYCs2HzjeWUdswbihtrv9YhnJKsNZt5YqDKrjA1EppatWCHBHNgYFEt3EAWSTv2h7cS1mqpqsJn9rx1jF58Vmr4LJrz5Hw5wFcHAY5\"\n",
      "        },\n",
      "        {\n",
      "            \"address\": \"16h8qxdiTsPoPLqtaNL2jo6G19yn5y7fDK\",\n",
      "            \"index\": 2,\n",
      "            \"path\": \"m/44'/0'/0'/0/2\",\n",
      "            \"privkey\": \"L2Kz9JhsVVCidgahjmadHHGhYXRrykAbV1jXmQD9P2Tr1wBUFKib\",\n",
      "            \"pubkey\": \"02720e47e4f7e7545647718f06f26221b392625f8e8879952801b15199175271a9\",\n",
      "            \"pubkeyhash\": \"3e6fd0b9d1fb806bfa848f263fbdec242f973fb5\",\n",
      "            \"xprv\": \"xprvA4226q1K2ejhZvGvJsKGSztfBtXdroxtSqHXcJo4o7XcRvA58fRQsL8nkPEV23rbCfsMSrGbRX2EH5WPUnyESnR2V8FnbDn6EojYQ52WNmn\",\n",
      "            \"xpub\": \"xpub6H1NWLYCs2HznQMPQtrGp8qPjvN8GGgjp4D8QhCgMT4bJiVDgCjfR8TGbdyMd2vWvMmqvNMPLG79uPoz3nF6AWyXBPzwq7tR6tUeuAkc629\"\n",
      "        }\n",
      "    ],\n",
      "    \"btc-test\": [\n",
      "        {\n",
      "            \"address\": \"mfaTXUSPZVKQC3TRDjWrqoVVsAdphrRGx2\",\n",
      "            \"index\": 0,\n",
      "            \"path\": \"m/44'/1'/0'/0/0\",\n",
      "            \"privkey\": \"cVRahEUgAuY5X3hxSC36p5p4j1UQxP3BPAQu4zo4LrXiN6U8xDi2\",\n",
      "            \"pubkey\": \"021929c6d5685c7b7328638dab3b057eb9157dec6ff909495bbfbe7e451991334f\",\n",
      "            \"pubkeyhash\": \"00a9a6258477b85102dabfb46e9773ff0b32def4\",\n",
      "            \"xprv\": \"tprv8kf2Rv5piN9ndhHe1zv7FgxAE3peJaLqtRyHhxQJndNBmkXdahTfg4ENdU5tnkWZLRqiYNHEG3oegwbDk4irKNJ4d7hhmZ2jKFntnkWbzx7\",\n",
      "            \"xpub\": \"tpubDHM4aL84rjqTXAKRueahf6cGo5LaTuXkTja4zUScCuAacEnQD6HFrYrEoZSp6tBdd33sdfWbPwwWdatmThy3UQgxJRWvbjQEeXeeLF8wQE2\"\n",
      "        },\n",
      "        {\n",
      "            \"address\": \"mxStet1dhYzPXDHrWY72MrCfakRTjTZHCX\",\n",
      "            \"index\": 1,\n",
      "            \"path\": \"m/44'/1'/0'/0/1\",\n",
      "            \"privkey\": \"cQ16r3H3FEjxXSZs7M9Fe3AwfkNyGxScUZF68iBhRU1ztzWTGhYR\",\n",
      "            \"pubkey\": \"02e4650208e8715d1795432dd1539ccb7e6decb1693d4ebe1d6f2791ed6e583f91\",\n",
      "            \"pubkeyhash\": \"b9b56f684ad7fa57184fced0e8c69a95a7e98ddf\",\n",
      "            \"xprv\": \"tprv8kf2Rv5piN9nfB17ogXvSDL3MLYGmpKs177nuLQjEsJDajswKUL8fB9cYqvd9m6h8NeFxLEoWCY7m1gVUoHVQZEJMwHqTpqPyDWM5tL9ZSU\",\n",
      "            \"xpub\": \"tpubDHM4aL84rjqTYe2uhLCWqcz9vN4Cw9WmaQiaBrT2f96cRE8hws9iqfmUiz4JCiBqLGgR1tzxCGDicpHTg1Q7jDhBPuQbpYGddwhUhybcQJR\"\n",
      "        },\n",
      "        {\n",
      "            \"address\": \"mjbMftwHxBmbDeezTEo97QakjEwWk8EYLW\",\n",
      "            \"index\": 2,\n",
      "            \"path\": \"m/44'/1'/0'/0/2\",\n",
      "            \"privkey\": \"cNGsVix24kn5gEviPpk2sKdP6FUjHvGqXiDnuozMbLiP225yMAAC\",\n",
      "            \"pubkey\": \"03778e94631c59155da776e794a99be28d16349cab759432bcd56292537328d1e3\",\n",
      "            \"pubkeyhash\": \"2cb5ae476b0a29d3f0ffb813bcf06fd288f76f9b\",\n",
      "            \"xprv\": \"tprv8kf2Rv5piN9nhQaB5RqfRjPGh7HDKh1P2PYAuqqkFRyUhhAsN4hvhnajpZXqYfwgk9jLrEZCBW2KV7diqa1xv8DaAp9MMhY5gTmyUz2HDDa\",\n",
      "            \"xpub\": \"tpubDHM4aL84rjqTasbxy5WFq93PG8o9V2CHbh8xCMt3fhmsYBRdzTXWtHCbzjB2kVNmsGARuPVUh9Qin4x9hqomZuWCAPM5VnszLGXJk1rMoqH\"\n",
      "        }\n",
      "    ],\n",
      "    \"eth\": [\n",
      "        {\n",
      "            \"address\": \"0x042924A2f73D821C5459e55736a1536859727D45\",\n",
      "            \"index\": 0,\n",
      "            \"path\": \"m/44'/60'/0'/0/0\",\n",
      "            \"privkey\": \"0x328aa4dc2c080b16f3677145db9c9d80d940b509a7a9a8fec2af127ff5bc82f1\",\n",
      "            \"pubkey\": \"0394a8577e31099c58fef1385935d9145d21a457366224607bc776d9633cac92b0\",\n",
      "            \"pubkeyhash\": \"8f4eb0e7fe0a4135ab817290bc9ff7677849a9ad\",\n",
      "            \"xprv\": \"xprvA38CNJz3FcqJ5kxKbdzwdJwct1rz5oARR3iRZ2a6KQAC1eHr22ewxBVqwD5RHuxuTn9kAY9oUBbvmrMR4dj1Up9GyVHog7681EYiMVFiuZx\",\n",
      "            \"xpub\": \"xpub6G7YmpWw5zPbJF2nhfXwzStMS3hUVFtGnGe2MQyhsjhAtSczZZyCVypKnWo99oabjpSgfaHcve4SMmv5nHBHRRQozkmifzKyEihD4SnqTqd\"\n",
      "        },\n",
      "        {\n",
      "            \"address\": \"0xCE0170ff40624Da72a250C181d76fcf1e43c7508\",\n",
      "            \"index\": 1,\n",
      "            \"path\": \"m/44'/60'/0'/0/1\",\n",
      "            \"privkey\": \"0xd13bce38afa82475d63a113d0725efd979942442ca6ab1f979ffbb084a88e602\",\n",
      "            \"pubkey\": \"0212df0af8d4406c70b5c9fc6bf0c2ba71818c3b570ce45ce1a0bf6e55ad2246e2\",\n",
      "            \"pubkeyhash\": \"c7fff20cafc30cd936495850a904205c04ea66e9\",\n",
      "            \"xprv\": \"xprvA38CNJz3FcqJ7rCzxMrf8MZv6LNA63q31t8nuBdKHZhUAMSMaqqQ7D7mRD1TPfHRJin4yjaQzGA2AJ3vEe97pRHH1G14ugwRmnJThdEjke2\",\n",
      "            \"xpub\": \"xpub6G7YmpWw5zPbLLHU4PPfVVWeeNCeVWYtP74Pha2vquET39mW8P9ef1SFGSbPHMHJuJr7ueKAH8rMmGqV9WRCFYx2c9bK6PvrURGBuiHjhnG\"\n",
      "        },\n",
      "        {\n",
      "            \"address\": \"0x2E6842518697Fe757b620885C7608043a8581EAC\",\n",
      "            \"index\": 2,\n",
      "            \"path\": \"m/44'/60'/0'/0/2\",\n",
      "            \"privkey\": \"0x5cddcdc84bc6c08e1f47206ceb49b8551c8368784a8799bcf48cd6cc0bded06b\",\n",
      "            \"pubkey\": \"038b1f1f7eddada33879e8d5efa273a475619f2ecc187d65a31aea46a6ab2ff531\",\n",
      "            \"pubkeyhash\": \"d4eca4520100c537ae083245430c4282155f7796\",\n",
      "            \"xprv\": \"xprvA38CNJz3FcqJB4h9qCshJsAQHH3Kt8pH27XFYaohzUf1trxW9Lpmpr3odSRLePmFWLWbrst3CBGD6FQCvYoqo3zBAe2DqBp2WgmHZipyCr8\",\n",
      "            \"xpub\": \"xpub6G7YmpWw5zPbPYmcwEQhg178qJspHbY8PLSrLyDKYpBzmfHegt92NeNHUjkDnm4mRU73jFbAadXke8CzGGnrqMqQ23VXDPkRmDpGwN8vGAu\"\n",
      "        }\n",
      "    ]\n",
      "}\n"
     ]
    }
   ],
   "source": [
    "print(json.dumps(keys, indent=4, sort_keys=True))"
   ]
  },
  {
   "cell_type": "code",
   "execution_count": 333,
   "metadata": {},
   "outputs": [],
   "source": [
    "def priv_key_to_account(coin, priv_key):\n",
    "    \"\"\"Convert the privkey string in a child key to an account object that bit or web3.py can use to transact\"\"\"\n",
    "    if coin == ETH:\n",
    "        return Account.privateKeyToAccount(priv_key)\n",
    "    if coin == BTCTEST:\n",
    "        return PrivateKeyTestnet(priv_key)\n",
    "    \n",
    "eth_acc = priv_key_to_account(ETH,eth_PrivateKey)\n",
    "btc_acc = priv_key_to_account(BTCTEST,btc_PrivateKey)"
   ]
  },
  {
   "cell_type": "code",
   "execution_count": 334,
   "metadata": {},
   "outputs": [
    {
     "name": "stdout",
     "output_type": "stream",
     "text": [
      "<eth_account.signers.local.LocalAccount object at 0x7f9d41055d50>\n",
      "0x042924A2f73D821C5459e55736a1536859727D45\n",
      "<PrivateKeyTestnet: mfaTXUSPZVKQC3TRDjWrqoVVsAdphrRGx2>\n"
     ]
    }
   ],
   "source": [
    "print(eth_acc)\n",
    "print(eth_acc.address)\n",
    "print(btc_acc)"
   ]
  },
  {
   "cell_type": "code",
   "execution_count": 335,
   "metadata": {},
   "outputs": [],
   "source": [
    "def create_trx(coin, account, recipient, amount):\n",
    "    \"\"\"create the raw, unsigned transaction that contains all metadata needed to transact\"\"\"\n",
    "    global trx_data\n",
    "    if coin ==ETH:\n",
    "        gasEstimate = w3.eth.estimateGas(\n",
    "            {\"from\": account.address, \"to\": recipient, \"value\": amount}\n",
    "        )\n",
    "        trx_data = {\n",
    "            \"to\": recipient,\n",
    "            \"from\": account.address,\n",
    "            \"value\": amount,\n",
    "            \"gasPrice\": w3.eth.gasPrice,\n",
    "            \"gas\": gasEstimate,\n",
    "            \"nonce\": w3.eth.getTransactionCount(account.address)\n",
    "        }\n",
    "        return trx_data\n",
    "\n",
    "    if coin == BTCTEST:\n",
    "        key = PrivateKeyTestnet()\n",
    "        return key.prepare_transaction(account.address, [(recipient, amount, 'btc')])"
   ]
  },
  {
   "cell_type": "code",
   "execution_count": 336,
   "metadata": {},
   "outputs": [],
   "source": [
    "def send_trx(coin, account, recipient, amount):\n",
    "    \"\"\"call create_trx, sign the transaction, then send it to the designated network\"\"\"\n",
    "    if coin == \"eth\": \n",
    "        trx_eth = create_trx(coin,account, recipient, amount)\n",
    "        sign = account.signTransaction(trx_eth)\n",
    "        result = w3.eth.sendRawTransaction(sign.rawTransaction)\n",
    "        print(result.hex())\n",
    "        return result.hex()\n",
    "    else:\n",
    "        trx_btctest= create_trx(coin,account,recipient,amount)\n",
    "        sign_trx_btctest = account.sign_transaction(trx_btctest)\n",
    "        from bit.network import NetworkAPI\n",
    "        NetworkAPI.broadcast_tx_testnet(sign_trx_btctest)       \n",
    "        return sign_trx_btctest\n",
    "       "
   ]
  },
  {
   "cell_type": "markdown",
   "metadata": {},
   "source": [
    "# Calling the functions to create, sign and execute transactions (BTCTest and ETH)"
   ]
  },
  {
   "cell_type": "markdown",
   "metadata": {},
   "source": [
    "# BTC test transactions"
   ]
  },
  {
   "cell_type": "code",
   "execution_count": 337,
   "metadata": {},
   "outputs": [
    {
     "data": {
      "text/plain": [
       "'{\"unspents\":[{\"amount\":88418,\"confirmations\":0,\"script\":\"76a91400a9a6258477b85102dabfb46e9773ff0b32def488ac\",\"txid\":\"6613afad112109f4cdea7440d1271accd144cef7eff32798099bce042221a39e\",\"txindex\":1,\"type\":\"p2pkh\",\"vsize\":148,\"segwit\":false,\"sequence\":4294967295}],\"outputs\":[[\"mkHS9ne12qx9pS9VojpwU5xtRd4T7X7ZUt\",10000],[\"mfaTXUSPZVKQC3TRDjWrqoVVsAdphrRGx2\",77062]]}'"
      ]
     },
     "execution_count": 337,
     "metadata": {},
     "output_type": "execute_result"
    }
   ],
   "source": [
    "# create BTC transaction\n",
    "create_trx(BTCTEST, btc_acc, \"mkHS9ne12qx9pS9VojpwU5xtRd4T7X7ZUt\", 0.0001)"
   ]
  },
  {
   "cell_type": "code",
   "execution_count": 338,
   "metadata": {},
   "outputs": [
    {
     "data": {
      "text/plain": [
       "'01000000019ea3212204ce9b099827f3eff7ce44d1cc1a27d14074eacdf4092111adaf1366010000006a4730440220385206a101143a9425d395f5a30ddb0285a76af356abf000db6358e92c852c1a02203d9323a29007277d2be2404c58cee9f88d26ea05c2052970bd2ba6efbf4b34200121021929c6d5685c7b7328638dab3b057eb9157dec6ff909495bbfbe7e451991334fffffffff0210270000000000001976a914344a0f48ca150ec2b903817660b9b68b13a6702688ac062d0100000000001976a91400a9a6258477b85102dabfb46e9773ff0b32def488ac00000000'"
      ]
     },
     "execution_count": 338,
     "metadata": {},
     "output_type": "execute_result"
    }
   ],
   "source": [
    "#send BTC transaction\n",
    "send_trx(BTCTEST, btc_acc, 'mkHS9ne12qx9pS9VojpwU5xtRd4T7X7ZUt', 0.0001)"
   ]
  },
  {
   "cell_type": "markdown",
   "metadata": {},
   "source": [
    "# ETH transactions (Due to a bug in web3.py, I sent several transactions with MyCrypto from my local private mining blockchain, since the w3.eth.generateGasPrice() function does not work with an empty chain. The node keystore file is used."
   ]
  },
  {
   "cell_type": "code",
   "execution_count": 339,
   "metadata": {},
   "outputs": [],
   "source": [
    "from web3.middleware import geth_poa_middleware\n",
    "\n",
    "w3.middleware_onion.inject(geth_poa_middleware, layer=0)"
   ]
  },
  {
   "cell_type": "code",
   "execution_count": 340,
   "metadata": {},
   "outputs": [],
   "source": [
    "from web3 import Web3, HTTPProvider"
   ]
  },
  {
   "cell_type": "code",
   "execution_count": 341,
   "metadata": {},
   "outputs": [],
   "source": [
    "#connecting to HTTP with address pk\n",
    "w3 = Web3(Web3.HTTPProvider(f\"http://127.0.0.1:8545/0xeF422b5E2e7A9Af93a706799B7219E5D736c393c\"))\n"
   ]
  },
  {
   "cell_type": "code",
   "execution_count": 342,
   "metadata": {},
   "outputs": [
    {
     "data": {
      "text/plain": [
       "2"
      ]
     },
     "execution_count": 342,
     "metadata": {},
     "output_type": "execute_result"
    }
   ],
   "source": [
    "#checking the Block Number\n",
    "w3.eth.blockNumber"
   ]
  },
  {
   "cell_type": "code",
   "execution_count": 343,
   "metadata": {},
   "outputs": [
    {
     "data": {
      "text/plain": [
       "True"
      ]
     },
     "execution_count": 343,
     "metadata": {},
     "output_type": "execute_result"
    }
   ],
   "source": [
    "# double check if  I am connected to blockchain. \n",
    "w3.isConnected()"
   ]
  },
  {
   "cell_type": "markdown",
   "metadata": {},
   "source": [
    "# Checking the balance of the account with local mining blockchain"
   ]
  },
  {
   "cell_type": "code",
   "execution_count": 344,
   "metadata": {},
   "outputs": [
    {
     "data": {
      "text/plain": [
       "96999580000000000001"
      ]
     },
     "execution_count": 344,
     "metadata": {},
     "output_type": "execute_result"
    }
   ],
   "source": [
    "w3.eth.getBalance(\"0xeF422b5E2e7A9Af93a706799B7219E5D736c393c\")"
   ]
  },
  {
   "cell_type": "code",
   "execution_count": 345,
   "metadata": {},
   "outputs": [
    {
     "data": {
      "text/plain": [
       "{'to': '0xeF422b5E2e7A9Af93a706799B7219E5D736c393c',\n",
       " 'from': '0x042924A2f73D821C5459e55736a1536859727D45',\n",
       " 'value': 1,\n",
       " 'gasPrice': 20000000000,\n",
       " 'gas': 21000,\n",
       " 'nonce': 1}"
      ]
     },
     "execution_count": 345,
     "metadata": {},
     "output_type": "execute_result"
    }
   ],
   "source": [
    "create_trx(ETH, eth_acc ,\"0xeF422b5E2e7A9Af93a706799B7219E5D736c393c\", 1)"
   ]
  },
  {
   "cell_type": "code",
   "execution_count": 346,
   "metadata": {},
   "outputs": [
    {
     "name": "stdout",
     "output_type": "stream",
     "text": [
      "0x51b0a609542513035333e1920033be2e4d2e9ece826c3f42ad40ffffd9ddeb95\n"
     ]
    },
    {
     "data": {
      "text/plain": [
       "'0x51b0a609542513035333e1920033be2e4d2e9ece826c3f42ad40ffffd9ddeb95'"
      ]
     },
     "execution_count": 346,
     "metadata": {},
     "output_type": "execute_result"
    }
   ],
   "source": [
    "send_trx(ETH, eth_acc,\"0xeF422b5E2e7A9Af93a706799B7219E5D736c393c\", 1)"
   ]
  },
  {
   "cell_type": "markdown",
   "metadata": {},
   "source": [
    "# Confirmation that transactions are executed by checking balance of the account where the transactions were sent"
   ]
  },
  {
   "cell_type": "code",
   "execution_count": 347,
   "metadata": {},
   "outputs": [
    {
     "data": {
      "text/plain": [
       "96999580000000000002"
      ]
     },
     "execution_count": 347,
     "metadata": {},
     "output_type": "execute_result"
    }
   ],
   "source": [
    "w3.eth.getBalance(\"0xeF422b5E2e7A9Af93a706799B7219E5D736c393c\")"
   ]
  },
  {
   "cell_type": "code",
   "execution_count": null,
   "metadata": {},
   "outputs": [],
   "source": []
  },
  {
   "cell_type": "code",
   "execution_count": null,
   "metadata": {},
   "outputs": [],
   "source": []
  }
 ],
 "metadata": {
  "kernelspec": {
   "display_name": "Python [conda env:pyvizenv2] *",
   "language": "python",
   "name": "conda-env-pyvizenv2-py"
  },
  "language_info": {
   "codemirror_mode": {
    "name": "ipython",
    "version": 3
   },
   "file_extension": ".py",
   "mimetype": "text/x-python",
   "name": "python",
   "nbconvert_exporter": "python",
   "pygments_lexer": "ipython3",
   "version": "3.7.7"
  }
 },
 "nbformat": 4,
 "nbformat_minor": 4
}
